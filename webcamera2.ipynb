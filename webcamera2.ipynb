{
 "cells": [
  {
   "cell_type": "markdown",
   "metadata": {},
   "source": [
    "コンソールにファイル名"
   ]
  },
  {
   "cell_type": "code",
   "execution_count": 4,
   "metadata": {},
   "outputs": [
    {
     "name": "stdout",
     "output_type": "stream",
     "text": [
      "Can you use webcamera? 'yes' or 'no':yes\n",
      "What is file_name? input→→111\n",
      "Can you use webcamera? 'yes' or 'no':no\n",
      "Bye\n"
     ]
    }
   ],
   "source": [
    "import numpy as np\n",
    "import cv2\n",
    "\n",
    "\n",
    "\n",
    "def camera(file):\n",
    "    cap = cv2.VideoCapture(0)\n",
    "    fourcc = cv2.VideoWriter_fourcc('m', 'p', '4', 'v')\n",
    "    filename = str(file) + '.mp4'\n",
    "    out = cv2.VideoWriter(filename,fourcc, 20.0, (640,480))\n",
    "    while(cap.isOpened()):\n",
    "        ret, frame = cap.read()\n",
    "        if ret==True:\n",
    "            frame = cv2.flip(frame,1)\n",
    "            out.write(frame)\n",
    "            cv2.imshow(str(file),frame)\n",
    "            if cv2.waitKey(1) & 0xFF == ord('q'):\n",
    "                cap.release()\n",
    "                out.release()\n",
    "                cv2.destroyAllWindows()\n",
    "                choicecamera()\n",
    "                #break        \n",
    "        else:\n",
    "            break\n",
    "        \n",
    "\n",
    "def choicecamera():\n",
    "    choice = input(\"Can you use webcamera? 'yes' or 'no':\" ).lower()\n",
    "    if choice in ['yes']:\n",
    "        file = input(\"What is file_name? input→→\").lower()\n",
    "        camera(file)\n",
    "    else:\n",
    "        cv2.destroyAllWindows()\n",
    "        print(\"Bye\")\n",
    "choicecamera()    \n",
    "\n",
    "    "
   ]
  },
  {
   "cell_type": "code",
   "execution_count": null,
   "metadata": {},
   "outputs": [],
   "source": []
  }
 ],
 "metadata": {
  "kernelspec": {
   "display_name": "Python 3",
   "language": "python",
   "name": "python3"
  },
  "language_info": {
   "codemirror_mode": {
    "name": "ipython",
    "version": 3
   },
   "file_extension": ".py",
   "mimetype": "text/x-python",
   "name": "python",
   "nbconvert_exporter": "python",
   "pygments_lexer": "ipython3",
   "version": "3.8.3"
  }
 },
 "nbformat": 4,
 "nbformat_minor": 4
}
