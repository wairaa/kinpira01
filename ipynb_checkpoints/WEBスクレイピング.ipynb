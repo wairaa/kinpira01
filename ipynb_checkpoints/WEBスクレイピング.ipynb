{
 "cells": [
  {
   "cell_type": "code",
   "execution_count": null,
   "metadata": {},
   "outputs": [
    {
     "name": "stdout",
     "output_type": "stream",
     "text": [
      "今日の天気は曇時々晴\n",
      "明日の天気は曇時々晴\n",
      "明後日の天気は曇時々雨\n"
     ]
    }
   ],
   "source": [
    "#大阪の天気\n",
    "import requests\n",
    "\n",
    "rq = requests.get('http://weather.livedoor.com/forecast/webservice/json/v1?city=270000')\n",
    "data = rq.json()\n",
    "\n",
    "for weather in data['forecasts']:\n",
    "    print(\n",
    "        weather['dateLabel']\n",
    "         + 'の天気は'\n",
    "         + weather['image']['title'])\n"
   ]
  },
  {
   "cell_type": "code",
   "execution_count": 2,
   "metadata": {},
   "outputs": [
    {
     "name": "stdout",
     "output_type": "stream",
     "text": [
      "何を検索しますか？ >フリーエネルギー\n",
      "保存できるページを検索できませんでした\n"
     ]
    },
    {
     "ename": "SystemExit",
     "evalue": "",
     "output_type": "error",
     "traceback": [
      "An exception has occurred, use %tb to see the full traceback.\n",
      "\u001b[0;31mSystemExit\u001b[0m\n"
     ]
    },
    {
     "name": "stderr",
     "output_type": "stream",
     "text": [
      "/home/yasunobu/anaconda3/lib/python3.7/site-packages/IPython/core/interactiveshell.py:3304: UserWarning: To exit: use 'exit', 'quit', or Ctrl-D.\n",
      "  warn(\"To exit: use 'exit', 'quit', or Ctrl-D.\", stacklevel=1)\n"
     ]
    }
   ],
   "source": [
    "#検索ワード\n",
    "\n",
    "import requests\n",
    "import sys\n",
    "#プロンプトを表示して検索キーワードを取得\n",
    "title = input('何を検索しますか？ >')\n",
    "#MediaWikiのAPIにアクセスするためのURL\n",
    "url = 'https://ja.wikipedia.org/w/api.php'\n",
    "#ｶﾃｺﾞﾘｰ一覧を取得するためのクエリー情報\n",
    "api_params1 = {\n",
    "                 'action': 'query',\n",
    "                 'titles': title,\n",
    "                 'prop': 'categories',\n",
    "                 'format': 'json'}\n",
    "api_params2 = {\n",
    "                 'action': 'query',\n",
    "                 'titles': title,\n",
    "                 'prop': 'revisions',\n",
    "                 'rvprop': 'content',\n",
    "                 'format': 'xmlfm'}\n",
    "\n",
    "categories = requests.get(url, params=api_params1).json()\n",
    "page_id = categories['query']['pages']\n",
    "if '-1' in page_id:\n",
    "    print('該当ページなし')\n",
    "    sys.exit()\n",
    "else:\n",
    "    id = list(page_id.keys())\n",
    "    if 'categories' in categories['query']['pages'][id[0]]:\n",
    "        categories = categories['query']['pages'][id[0]]['categories']\n",
    "        for t in categories:\n",
    "            print(t['title'])\n",
    "            \n",
    "    else:\n",
    "        print('保存できるページを検索できませんでした')\n",
    "        sys.exit()\n",
    "        \n",
    "admit = input('検索結果を保存しますか?(yes) >')\n",
    "if admit == 'yes':\n",
    "    data = requests.get(url, params=api_params2)\n",
    "    with open(title + '.html', 'w', encoding = 'utf-8') as f:\n",
    "        f.write(data.text)\n",
    "    \n",
    "\n"
   ]
  },
  {
   "cell_type": "code",
   "execution_count": 1,
   "metadata": {},
   "outputs": [
    {
     "name": "stdout",
     "output_type": "stream",
     "text": [
      "科学:WHO 第2波で数百万人死亡も\n",
      "科学:九大 食べるコロナワクチン視野\n",
      "科学:野外コウノトリ 200羽に到達\n",
      "科学:ウツボがフグを丸のみ 毒は?\n",
      "科学:全長700kmの雷 史上最長認定\n",
      "科学:唾液抗原検査 保険適用対象に\n",
      "科学:蚊はコロナ媒介せず 伊研究\n",
      "科学:清原氏にみる 薬物克服の鍵\n",
      "経済:リニア 対立打開の糸口見えず\n",
      "経済:ハイオク他社と混合 公表せず\n",
      "経済:USJ 任天堂エリアの開業延期\n",
      "経済:在宅できぬ業種も 働き方とは\n",
      "経済:人と会わずに運動 ジムの変化\n",
      "経済:名古屋FM「Radio NEO」閉局へ\n",
      "経済:ジュンク堂福岡店 存続決まる\n",
      "経済:老舗雑誌 「撮り鉄」問い続け\n"
     ]
    }
   ],
   "source": [
    "import requests\n",
    "from bs4 import BeautifulSoup\n",
    "#科学\n",
    "xml = requests.get('https://news.yahoo.co.jp/pickup/science/rss.xml')\n",
    "soup = BeautifulSoup(xml.text, 'html.parser')\n",
    "for news in soup.findAll('item'):\n",
    "    print(\"科学:\" + news.title.string)\n",
    "\n",
    "\n",
    "\n",
    "#経済\n",
    "exml = requests.get('https://news.yahoo.co.jp/pickup/economy/rss.xml')\n",
    "hsoup = BeautifulSoup(exml.text, 'html.parser')\n",
    "for news in hsoup.findAll('item'):\n",
    "    print(\"経済:\" + news.title.string)\n",
    "\n",
    "\n",
    "\n",
    "\n",
    "\n"
   ]
  },
  {
   "cell_type": "code",
   "execution_count": null,
   "metadata": {},
   "outputs": [],
   "source": []
  }
 ],
 "metadata": {
  "kernelspec": {
   "display_name": "Python 3",
   "language": "python",
   "name": "python3"
  },
  "language_info": {
   "codemirror_mode": {
    "name": "ipython",
    "version": 3
   },
   "file_extension": ".py",
   "mimetype": "text/x-python",
   "name": "python",
   "nbconvert_exporter": "python",
   "pygments_lexer": "ipython3",
   "version": "3.7.3"
  }
 },
 "nbformat": 4,
 "nbformat_minor": 2
}
