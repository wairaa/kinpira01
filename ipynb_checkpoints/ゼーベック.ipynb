{
 "cells": [
  {
   "cell_type": "code",
   "execution_count": 21,
   "metadata": {},
   "outputs": [],
   "source": [
    "import tkinter as tk \n",
    "\n",
    "root = tk.Tk()\n",
    "canvas = tk.Canvas(root, width=1300, height=1300, bg=\"white\")\n",
    "canvas.pack()\n",
    "\n",
    "canvas.create_text( \n",
    "    500, 80, text=\"ゼーベック効果\", font=(\"Helvetica\", 25, \"bold\"))\n",
    "\n",
    "canvas.create_text(\n",
    "    500, 150, text=\"・異なる2つの半導体や金属に温度差を与えると電力が発生\", font=(\"Helvetica\", 18, \"bold\"), angle=0\n",
    ")\n",
    "canvas.create_text(\n",
    "    500, 200, text=\"・低音が負極に帯電し、高温が陽極に帯電\", font=(\"Helvetica\", 18, \"bold\"), angle=0\n",
    ")\n",
    "\n",
    "canvas.create_text(\n",
    "    500, 300, text=\"P型半導体・・・正孔が多く、プラス電化をもつ\",font=(\"Helvetica\", 18, \"bold\"))\n",
    "\n",
    "canvas.create_text(\n",
    "    500, 400, text=\"例　カーボンナノチューブを利用。ｎ型半導体は塩化ナトリウムとクラウンエーテル\",font=(\"Helvetica\", 10, \"bold\"))\n",
    "\n",
    "canvas.create_text(\n",
    "    500, 500, text=\"銅とセレンのゼービック効果で発電\",font=(\"Helvetica\", 18, \"bold\"))\n",
    "\n",
    "def callback1():\n",
    "    newWindow = tk.Toplevel(root)\n",
    "    canvas = tk.Canvas(newWindow, width=1300, height=1300, bg=\"blue\")\n",
    "    canvas.pack()\n",
    "    canvas.create_text( \n",
    "    500, 80, text=\"銅粉に水で発熱\", font=(\"Helvetica\", 25, \"white\"))\n",
    "    \n",
    "\n",
    "\n",
    "menubar = tk.Menu(root)\n",
    "root.config(menu=menubar)\n",
    "filemenu = tk.Menu(menubar)\n",
    "menubar.add_cascade(label='実験',menu=filemenu)\n",
    "filemenu.add_command(label='発熱方法',command=callback1)\n",
    "\n",
    "root.mainloop()\n"
   ]
  },
  {
   "cell_type": "code",
   "execution_count": 15,
   "metadata": {},
   "outputs": [],
   "source": [
    "import tkinter as tk\n",
    "\n",
    "def createNewWindow():\n",
    "    newWindow = tk.Toplevel(app)\n",
    "\n",
    "app = tk.Tk()\n",
    "buttonExample = tk.Button(app, \n",
    "              text=\"Create new window\",\n",
    "              command=createNewWindow)\n",
    "buttonExample.pack()\n",
    "\n",
    "app.mainloop()"
   ]
  },
  {
   "cell_type": "code",
   "execution_count": null,
   "metadata": {},
   "outputs": [],
   "source": []
  },
  {
   "cell_type": "code",
   "execution_count": null,
   "metadata": {},
   "outputs": [],
   "source": []
  }
 ],
 "metadata": {
  "kernelspec": {
   "display_name": "Python 3",
   "language": "python",
   "name": "python3"
  },
  "language_info": {
   "codemirror_mode": {
    "name": "ipython",
    "version": 3
   },
   "file_extension": ".py",
   "mimetype": "text/x-python",
   "name": "python",
   "nbconvert_exporter": "python",
   "pygments_lexer": "ipython3",
   "version": "3.7.3"
  }
 },
 "nbformat": 4,
 "nbformat_minor": 2
}
