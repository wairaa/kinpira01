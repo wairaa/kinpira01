{
 "cells": [
  {
   "cell_type": "code",
   "execution_count": 6,
   "metadata": {},
   "outputs": [
    {
     "ename": "RuntimeError",
     "evalue": "This module can only be run on a Raspberry Pi!",
     "output_type": "error",
     "traceback": [
      "\u001b[0;31m---------------------------------------------------------------------------\u001b[0m",
      "\u001b[0;31mRuntimeError\u001b[0m                              Traceback (most recent call last)",
      "\u001b[0;32m<ipython-input-6-eba7ceaed8cd>\u001b[0m in \u001b[0;36m<module>\u001b[0;34m\u001b[0m\n\u001b[1;32m      1\u001b[0m \u001b[0;32mimport\u001b[0m \u001b[0msun_position\u001b[0m\u001b[0;34m\u001b[0m\u001b[0;34m\u001b[0m\u001b[0m\n\u001b[1;32m      2\u001b[0m \u001b[0;32mimport\u001b[0m \u001b[0mmath\u001b[0m\u001b[0;34m\u001b[0m\u001b[0;34m\u001b[0m\u001b[0m\n\u001b[0;32m----> 3\u001b[0;31m \u001b[0;32mimport\u001b[0m \u001b[0mRPi\u001b[0m\u001b[0;34m.\u001b[0m\u001b[0mGPIO\u001b[0m \u001b[0;32mas\u001b[0m \u001b[0mGPIO\u001b[0m             \u001b[0;31m#GPIO用のモジュールをインポート ラズパイでしかinstall不可？\u001b[0m\u001b[0;34m\u001b[0m\u001b[0;34m\u001b[0m\u001b[0m\n\u001b[0m\u001b[1;32m      4\u001b[0m \u001b[0;32mimport\u001b[0m \u001b[0mtime\u001b[0m                         \u001b[0;31m#時間制御用のモジュールをインポート　使用しないかも？\u001b[0m\u001b[0;34m\u001b[0m\u001b[0;34m\u001b[0m\u001b[0m\n\u001b[1;32m      5\u001b[0m \u001b[0;32mimport\u001b[0m \u001b[0msys\u001b[0m                          \u001b[0;31m#sysモジュールをインポート   使用しないかも？\u001b[0m\u001b[0;34m\u001b[0m\u001b[0;34m\u001b[0m\u001b[0m\n",
      "\u001b[0;32m~/anaconda3/lib/python3.7/site-packages/RPi/GPIO/__init__.py\u001b[0m in \u001b[0;36m<module>\u001b[0;34m\u001b[0m\n\u001b[1;32m     21\u001b[0m \"\"\"\n\u001b[1;32m     22\u001b[0m \u001b[0;34m\u001b[0m\u001b[0m\n\u001b[0;32m---> 23\u001b[0;31m \u001b[0;32mfrom\u001b[0m \u001b[0mRPi\u001b[0m\u001b[0;34m.\u001b[0m\u001b[0m_GPIO\u001b[0m \u001b[0;32mimport\u001b[0m \u001b[0;34m*\u001b[0m\u001b[0;34m\u001b[0m\u001b[0;34m\u001b[0m\u001b[0m\n\u001b[0m\u001b[1;32m     24\u001b[0m \u001b[0;34m\u001b[0m\u001b[0m\n\u001b[1;32m     25\u001b[0m \u001b[0mVERSION\u001b[0m \u001b[0;34m=\u001b[0m \u001b[0;34m'0.7.0'\u001b[0m\u001b[0;34m\u001b[0m\u001b[0;34m\u001b[0m\u001b[0m\n",
      "\u001b[0;31mRuntimeError\u001b[0m: This module can only be run on a Raspberry Pi!"
     ]
    }
   ],
   "source": [
    "import sun_position\n",
    "import math\n",
    "import RPi.GPIO as GPIO             #GPIO用のモジュールをインポート ラズパイでしかinstall不可？\n",
    "import time                         #時間制御用のモジュールをインポート　使用しないかも？\n",
    "import sys                          #sysモジュールをインポート   使用しないかも？\n",
    "\"\"\"家のモータはＭＩＣＲＯ／２ＢＢＭＧ。PWM不明、制御パルス不明\"\"\"\n",
    "a = sun_position.houi('2020/12/3',7,12,135.28,34.41)\n",
    "a[2] = math.floor(a[2])  #角度を整数に変更\n",
    "a[4] = math.floor(a[4])\n",
    "ang = 0\n",
    "if a[1]==\"東\":\n",
    "    ang = -90 + a[2]\n",
    "else:\n",
    "    ang = 90 - a[2]\n",
    "\n",
    "\"\"\"サーボを水平方向に動かす　-90°は右回り、90°は左回り前提　\"\"\"\n",
    "#ポート番号の定義\n",
    "Servo_pin = 18                      #変数\"Servo_pin\"に18を格納\n",
    "#GPIOの設定\n",
    "GPIO.setmode(GPIO.BCM)              #GPIOのモードを\"GPIO.BCM\"に設定\n",
    "GPIO.setup(Servo_pin, GPIO.OUT)     #GPIO18を出力モードに設定\n",
    "\n",
    "#PWMの設定\n",
    "#サーボモータSG90の周波数は50[Hz]　pwm =20ms(ミリセカンド) \n",
    "#パルス幅が20ms⇛１秒で何回パルスが発生するか⇛1000(1秒) ÷　20 = 50\n",
    "Servo = GPIO.PWM(Servo_pin, 50)     #GPIO.PWM(ポート番号, 周波数[Hz])\n",
    "Servo.start(0)                      #Servo.start(デューティ比[0-100%])\n",
    "\n",
    "#角度からデューティ比を求める関数\n",
    "#制御パルス0.5ms～2.4ms pwm =20ms\n",
    "#0.5÷20=0.025⇛2.5%    2.4÷20=0.12⇛12% ⇛デューティ比率は2.5%(-90°)〜12%(90°)\n",
    "#Micro/2BBmgが-90°〜90°までか？制御パルスがどれくらいか不明？\n",
    "def servo_angle(angle):\n",
    "    duty = 2.5 + (12.0 - 2.5) * (angle + 90) / 180   #角度からデューティ比を求める\n",
    "    Servo.ChangeDutyCycle(duty)     #デューティ比を変更\n",
    "    \n",
    "\"\"\"サーボを垂直方向に動かす　0°〜90°　サーボモータは未決定のため、Servo変数の50等は別数字\"\"\"\n",
    "vertical = a[4]\n",
    "Servo_pin = 24                     #変数\"Servo_pin\"に24を格納\n",
    "#GPIOの設定\n",
    "GPIO.setmode(GPIO.BCM)              #GPIOのモードを\"GPIO.BCM\"に設定\n",
    "GPIO.setup(Servo_pin, GPIO.OUT)     #GPIO18を出力モードに設定\n",
    "Servo = GPIO.PWM(Servo_pin, 50)     #GPIO.PWM(ポート番号, 周波数[Hz])\n",
    "Servo.start(0)                      #Servo.start(デューティ比[0-100%])\n",
    "def servo_angle2(angle):\n",
    "    duty = 2.5 + (12.0 - 2.5) * (angle + 90) / 180   #角度からデューティ比を求める\n",
    "    Servo.ChangeDutyCycle(duty)     #デューティ比を変更\n",
    "\n",
    "    \n",
    "    \n",
    "    \n",
    "servo_angle(ang)\n",
    "servo_angle2(vertical)\n",
    "\n"
   ]
  },
  {
   "cell_type": "code",
   "execution_count": 5,
   "metadata": {},
   "outputs": [
    {
     "data": {
      "text/plain": [
       "3"
      ]
     },
     "execution_count": 5,
     "metadata": {},
     "output_type": "execute_result"
    }
   ],
   "source": [
    "import sun_position\n",
    "import math\n",
    "a = sun_position.houi('2020/12/3',7,12,135.28,34.41)\n",
    "a[4] = math.floor(a[4])\n",
    "a[4]\n"
   ]
  },
  {
   "cell_type": "code",
   "execution_count": 5,
   "metadata": {},
   "outputs": [
    {
     "name": "stdout",
     "output_type": "stream",
     "text": [
      "今日は？日付例　2020/7/5\n",
      "2020/7/5\n",
      "何時？例：5時の場合は5\n",
      "15\n",
      "何分？例：5分の場合は5\n",
      "15\n",
      "経度？小数点第2位まで\n",
      "135\n",
      "緯度？小数点第2位まで\n",
      "38\n"
     ]
    },
    {
     "data": {
      "text/plain": [
       "['真南', '西', 43.64, '高度は⇛', -9.67]"
      ]
     },
     "execution_count": 5,
     "metadata": {},
     "output_type": "execute_result"
    }
   ],
   "source": [
    "import sun_position\n",
    "import math\n",
    "#コンソール情報で必要な質問に対して、答えると一定のタプルをつくる\n",
    "print(\"今日は？日付例　2020/7/5\")\n",
    "a =input()\n",
    "print(\"何時？例：5時の場合は5\")\n",
    "b = input()\n",
    "b = int(b)\n",
    "print(\"何分？例：5分の場合は5\")\n",
    "c = input()\n",
    "c = int(c)\n",
    "print(\"経度？小数点第2位まで\")\n",
    "d = input()\n",
    "d = int(d)\n",
    "print(\"緯度？小数点第2位まで\")\n",
    "e = input()\n",
    "e = int(d)\n",
    "directory = sun_position.houi(a,b,c,d,e)\n",
    "directory\n"
   ]
  },
  {
   "cell_type": "code",
   "execution_count": 4,
   "metadata": {},
   "outputs": [
    {
     "name": "stdout",
     "output_type": "stream",
     "text": [
      "緯度？小数点第2位まで\n",
      "55\n"
     ]
    },
    {
     "data": {
      "text/plain": [
       "55"
      ]
     },
     "execution_count": 4,
     "metadata": {},
     "output_type": "execute_result"
    }
   ],
   "source": [
    "print(\"緯度？小数点第2位まで\")\n",
    "e = input()\n",
    "e =int(e)\n",
    "e"
   ]
  },
  {
   "cell_type": "code",
   "execution_count": null,
   "metadata": {},
   "outputs": [],
   "source": []
  }
 ],
 "metadata": {
  "kernelspec": {
   "display_name": "Python 3",
   "language": "python",
   "name": "python3"
  },
  "language_info": {
   "codemirror_mode": {
    "name": "ipython",
    "version": 3
   },
   "file_extension": ".py",
   "mimetype": "text/x-python",
   "name": "python",
   "nbconvert_exporter": "python",
   "pygments_lexer": "ipython3",
   "version": "3.7.3"
  }
 },
 "nbformat": 4,
 "nbformat_minor": 2
}
