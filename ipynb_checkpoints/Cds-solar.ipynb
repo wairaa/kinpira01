{
 "cells": [
  {
   "cell_type": "code",
   "execution_count": 1,
   "metadata": {},
   "outputs": [
    {
     "ename": "SyntaxError",
     "evalue": "unexpected EOF while parsing (<ipython-input-1-0c26b9bc8404>, line 25)",
     "output_type": "error",
     "traceback": [
      "\u001b[0;36m  File \u001b[0;32m\"<ipython-input-1-0c26b9bc8404>\"\u001b[0;36m, line \u001b[0;32m25\u001b[0m\n\u001b[0;31m    \u001b[0m\n\u001b[0m    ^\u001b[0m\n\u001b[0;31mSyntaxError\u001b[0m\u001b[0;31m:\u001b[0m unexpected EOF while parsing\n"
     ]
    }
   ],
   "source": [
    "\"\"\"CdsセンサーとADコンバータ(MCP3208)を利用し、西、南西、南、南東、東の方向にcds\"\"\"\n",
    "\"\"\"CdsセンサーとADコンバータ(MCP3208)を10°20°30°の高度を設定⇛合計8個使用\"\"\"\n",
    "import spidev\n",
    "import time\n",
    "\n",
    "#SPI通信準備\n",
    "spi = spidev.SpiDev()\n",
    "spi.open(0, 0)\n",
    "#12bitで値取得\n",
    "def adc_read12(ch):\n",
    "    r = spi.xfer2([4|2(ch >> 2), (ch & 3) << 6, 0])\n",
    "    v = ((r[1] & 0xF) << 8) + r[2]\n",
    "    return v\n",
    "\n",
    "while True:\n",
    "    try:\n",
    "        #SPIで値を読む\n",
    "        v1 = adc_read12(1) #西\n",
    "        v2 = adc_read12(2) #南西\n",
    "        v3 = adc_read12(3) #南\n",
    "        v4 = adc_read12(4) #南東\n",
    "        v5 = adc_read12(5) #東\n",
    "        v6 = adc_read12(6)　#10°\n",
    "        v7 = adc_read12(7) #20°\n",
    "        v8 = adc_read12(8) #30°\n",
    "        print(v1,v2,v3,v4,v5,v6,v7,v8)\n",
    "        time.sleep(1)\n",
    "    except KeyboardInterrupt:\n",
    "        break\n",
    "spi.close()\n",
    "        \n",
    "\n",
    "\n"
   ]
  }
 ],
 "metadata": {
  "kernelspec": {
   "display_name": "Python 3",
   "language": "python",
   "name": "python3"
  },
  "language_info": {
   "codemirror_mode": {
    "name": "ipython",
    "version": 3
   },
   "file_extension": ".py",
   "mimetype": "text/x-python",
   "name": "python",
   "nbconvert_exporter": "python",
   "pygments_lexer": "ipython3",
   "version": "3.7.3"
  }
 },
 "nbformat": 4,
 "nbformat_minor": 2
}
