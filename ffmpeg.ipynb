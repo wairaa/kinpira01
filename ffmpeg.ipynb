{
 "cells": [
  {
   "cell_type": "code",
   "execution_count": 8,
   "metadata": {},
   "outputs": [
    {
     "name": "stdout",
     "output_type": "stream",
     "text": [
      "200\n",
      "300\n"
     ]
    }
   ],
   "source": [
    "point = ([200,400,500,500],[300,300,400,400])\n",
    "for i in range(2):\n",
    "    a = point[i][0]\n",
    "    print(a)\n",
    "    \n",
    "\n"
   ]
  },
  {
   "cell_type": "code",
   "execution_count": 10,
   "metadata": {},
   "outputs": [],
   "source": [
    "import ffmpeg\n",
    "\n",
    "def video_trimming(input_file_path, start_x, start_y, w, h,n):\n",
    "    \"\"\"\n",
    "    input_file_path # ファイルの絶対パス\n",
    "    start_x = 850  # 切り取りたい区画のx座標（px）\n",
    "    start_y = 500  # 切り取りたい区画のy座標（px）\n",
    "    width = 700  # 切り取りたい区画の幅（px）\n",
    "    height = 580  # 切り取りたい区画の高さ（px）\n",
    "    \"\"\"\n",
    "    \n",
    "    # トリミングファイル・パラメータ指定\n",
    "    stream = ffmpeg.input(input_file_path)\n",
    "    stream = ffmpeg.crop(stream, start_x, start_y, w, h)\n",
    "\n",
    "    # 出力ファイル名生成\n",
    "    output_file_str = input_file_path.split(\".\")\n",
    "    output_file_name = output_file_str[0] + \"No_\"+ str(n) + \".\"  + output_file_str[1]\n",
    "    stream = ffmpeg.output(stream, output_file_name)\n",
    "\n",
    "    # 実行(ファイルがあると上書き)\n",
    "    ffmpeg.run(stream, overwrite_output=True)\n",
    "\n",
    "    return\n",
    "\n",
    "def video_start(input_file_path, point,n):\n",
    "    if n > 0:\n",
    "         for i in range(2):\n",
    "                a = point[i][0]\n",
    "                b = point[i][1]\n",
    "                c = point[i][2]\n",
    "                d = point[i][3]\n",
    "                video_trimming(input_file_path,a,b,c,d,i)\n",
    "\n",
    "input_sile = \"IMG_1208.MOV\"\n",
    "point = ([200,400,500,500],[500,500,400,400])\n",
    "n = len(point)\n",
    "video_start(input_sile,point,n)\n"
   ]
  },
  {
   "cell_type": "markdown",
   "metadata": {},
   "source": [
    "# 動画を複数分割 ver 1"
   ]
  },
  {
   "cell_type": "code",
   "execution_count": 1,
   "metadata": {},
   "outputs": [],
   "source": [
    "import ffmpeg\n",
    "\n",
    "def video_trimming(input_file_path, start_x, start_y, w, h,n):\n",
    "    \"\"\"\n",
    "    input_file_path # ファイルの絶対パス\n",
    "    start_x = 850  # 切り取りたい区画のx座標（px）\n",
    "    start_y = 500  # 切り取りたい区画のy座標（px）\n",
    "    width = 700  # 切り取りたい区画の幅（px）\n",
    "    height = 580  # 切り取りたい区画の高さ（px）\n",
    "    \"\"\"\n",
    "    \n",
    "    # トリミングファイル・パラメータ指定\n",
    "    stream = ffmpeg.input(input_file_path)\n",
    "    stream = ffmpeg.crop(stream, start_x, start_y, w, h)\n",
    "\n",
    "    # 出力ファイル名生成\n",
    "    output_file_str = input_file_path.split(\".\")\n",
    "    output_file_name = output_file_str[0] + \"No_\"+ str(n) + \".\"  + output_file_str[1]\n",
    "    stream = ffmpeg.output(stream, output_file_name)\n",
    "\n",
    "    # 実行(ファイルがあると上書き)\n",
    "    ffmpeg.run(stream, overwrite_output=True)\n",
    "\n",
    "    return\n",
    "\n",
    "\n",
    "\n",
    "def video_start(input_file_path, point,n):\n",
    "    a = point[0]\n",
    "    b = point[1]\n",
    "    c = point[2]\n",
    "    d = point[3]\n",
    "    if n == 1:\n",
    "        video_trimming(input_file_path,a,b,c,d,n)\n",
    "\n",
    "input_sile = \"IMG_1208.MOV\"\n",
    "point = [200,400,500,500]\n",
    "n = 1\n",
    "#video_start(input_sile,point,n)\n",
    "\n",
    "video_trimming(input_sile,200,400,500,500,n)"
   ]
  },
  {
   "cell_type": "markdown",
   "metadata": {},
   "source": [
    "# 複数動画再生"
   ]
  },
  {
   "cell_type": "code",
   "execution_count": 4,
   "metadata": {},
   "outputs": [
    {
     "name": "stdout",
     "output_type": "stream",
     "text": [
      "None\n",
      "None\n",
      "None\n"
     ]
    }
   ],
   "source": [
    "#動画を複数呼び出し\n",
    "import numpy as np\n",
    "import cv2\n",
    "\n",
    "names = ['IMG_1208.MOV', 'IMG_1208_trimed.MOV', 'outputyasu22.MP4'];\n",
    "window_titles = ['first', 'second', 'third']\n",
    "\n",
    "\n",
    "cap = [cv2.VideoCapture(i) for i in names]\n",
    "\n",
    "frames = [None] * len(names);\n",
    "gray = [None] * len(names);\n",
    "ret = [None] * len(names);\n",
    "\n",
    "while True:\n",
    "    for i,c in enumerate(cap):\n",
    "        if c is not None:\n",
    "            ret[i], frames[i] = c.read()\n",
    "\n",
    "\n",
    "    for i,f in enumerate(frames):\n",
    "        if ret[i] is True:\n",
    "            #gray[i] = cv2.cvtColor(f, cv2.COLOR_BGR2BGR)  \n",
    "            cv2.imshow(window_titles[i], frames[i]);\n",
    "\n",
    "    if cv2.waitKey(1) & 0xFF == ord('q'):\n",
    "          break\n",
    "for c in cap:\n",
    "       if c is not None:\n",
    "            a = c.release()\n",
    "            print(a)           \n",
    "cv2.destroyAllWindows()"
   ]
  },
  {
   "cell_type": "code",
   "execution_count": null,
   "metadata": {},
   "outputs": [],
   "source": []
  }
 ],
 "metadata": {
  "kernelspec": {
   "display_name": "Python 3",
   "language": "python",
   "name": "python3"
  },
  "language_info": {
   "codemirror_mode": {
    "name": "ipython",
    "version": 3
   },
   "file_extension": ".py",
   "mimetype": "text/x-python",
   "name": "python",
   "nbconvert_exporter": "python",
   "pygments_lexer": "ipython3",
   "version": "3.8.3"
  }
 },
 "nbformat": 4,
 "nbformat_minor": 4
}
